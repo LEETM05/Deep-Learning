{
 "cells": [
  {
   "cell_type": "code",
   "execution_count": 3,
   "id": "32a728c4",
   "metadata": {},
   "outputs": [],
   "source": [
    "from tensorflow.keras.datasets import imdb\n",
    "(train_input, train_target), (test_input, test_target) = imdb.load_data(num_words = 500)"
   ]
  },
  {
   "cell_type": "code",
   "execution_count": 4,
   "id": "1266b910",
   "metadata": {},
   "outputs": [
    {
     "name": "stdout",
     "output_type": "stream",
     "text": [
      "(25000,) (25000,)\n"
     ]
    }
   ],
   "source": [
    "print(train_input.shape, test_input.shape)"
   ]
  },
  {
   "cell_type": "code",
   "execution_count": 5,
   "id": "e0df5ecd",
   "metadata": {},
   "outputs": [
    {
     "name": "stdout",
     "output_type": "stream",
     "text": [
      "218\n"
     ]
    }
   ],
   "source": [
    "print(len(train_input[0]))"
   ]
  },
  {
   "cell_type": "code",
   "execution_count": 6,
   "id": "9641ff2c",
   "metadata": {},
   "outputs": [
    {
     "name": "stdout",
     "output_type": "stream",
     "text": [
      "189\n"
     ]
    }
   ],
   "source": [
    "print(len(train_input[1]))"
   ]
  },
  {
   "cell_type": "code",
   "execution_count": 7,
   "id": "8050cc7f",
   "metadata": {},
   "outputs": [
    {
     "name": "stdout",
     "output_type": "stream",
     "text": [
      "[1, 14, 22, 16, 43, 2, 2, 2, 2, 65, 458, 2, 66, 2, 4, 173, 36, 256, 5, 25, 100, 43, 2, 112, 50, 2, 2, 9, 35, 480, 284, 5, 150, 4, 172, 112, 167, 2, 336, 385, 39, 4, 172, 2, 2, 17, 2, 38, 13, 447, 4, 192, 50, 16, 6, 147, 2, 19, 14, 22, 4, 2, 2, 469, 4, 22, 71, 87, 12, 16, 43, 2, 38, 76, 15, 13, 2, 4, 22, 17, 2, 17, 12, 16, 2, 18, 2, 5, 62, 386, 12, 8, 316, 8, 106, 5, 4, 2, 2, 16, 480, 66, 2, 33, 4, 130, 12, 16, 38, 2, 5, 25, 124, 51, 36, 135, 48, 25, 2, 33, 6, 22, 12, 215, 28, 77, 52, 5, 14, 407, 16, 82, 2, 8, 4, 107, 117, 2, 15, 256, 4, 2, 7, 2, 5, 2, 36, 71, 43, 2, 476, 26, 400, 317, 46, 7, 4, 2, 2, 13, 104, 88, 4, 381, 15, 297, 98, 32, 2, 56, 26, 141, 6, 194, 2, 18, 4, 226, 22, 21, 134, 476, 26, 480, 5, 144, 30, 2, 18, 51, 36, 28, 224, 92, 25, 104, 4, 226, 65, 16, 38, 2, 88, 12, 16, 283, 5, 16, 2, 113, 103, 32, 15, 16, 2, 19, 178, 32]\n"
     ]
    }
   ],
   "source": [
    "print(train_input[0])"
   ]
  },
  {
   "cell_type": "code",
   "execution_count": 8,
   "id": "9ed6e083",
   "metadata": {},
   "outputs": [
    {
     "name": "stdout",
     "output_type": "stream",
     "text": [
      "[1 0 0 1 0 0 1 0 1 0 1 0 0 0 0 0 1 1 0 1]\n"
     ]
    }
   ],
   "source": [
    "print(train_target[:20])"
   ]
  },
  {
   "cell_type": "code",
   "execution_count": 9,
   "id": "66545a52",
   "metadata": {},
   "outputs": [],
   "source": [
    "from sklearn.model_selection import train_test_split\n",
    "train_input, val_input, train_target, val_target = train_test_split(train_input, train_target, test_size = 0.2, random_state = 42)"
   ]
  },
  {
   "cell_type": "code",
   "execution_count": 10,
   "id": "a13dc95a",
   "metadata": {},
   "outputs": [],
   "source": [
    "import numpy as np\n",
    "lengths = np.array([len(x)for x in train_input])"
   ]
  },
  {
   "cell_type": "code",
   "execution_count": 11,
   "id": "0427c54d",
   "metadata": {},
   "outputs": [
    {
     "name": "stdout",
     "output_type": "stream",
     "text": [
      "239.00925 178.0\n"
     ]
    }
   ],
   "source": [
    "print(np.mean(lengths), np.median(lengths))"
   ]
  },
  {
   "cell_type": "code",
   "execution_count": 12,
   "id": "57f94cae",
   "metadata": {},
   "outputs": [
    {
     "data": {
      "image/png": "[encoded data removed]",
      "text/plain": [
       "<Figure size 640x480 with 1 Axes>"
      ]
     },
     "metadata": {},
     "output_type": "display_data"
    }
   ],
   "source": [
    "import matplotlib.pyplot as plt\n",
    "plt.hist(lengths)\n",
    "plt.xlabel('length')\n",
    "plt.ylabel('frequency')\n",
    "plt.show()"
   ]
  },
  {
   "cell_type": "code",
   "execution_count": 13,
   "id": "1baf12c3",
   "metadata": {},
   "outputs": [],
   "source": [
    "from tensorflow.keras.preprocessing.sequence import pad_sequences\n",
    "train_seq = pad_sequences(train_input, maxlen = 100)"
   ]
  },
  {
   "cell_type": "code",
   "execution_count": 14,
   "id": "e5f16599",
   "metadata": {},
   "outputs": [
    {
     "name": "stdout",
     "output_type": "stream",
     "text": [
      "[ 10   4  20   9   2 364 352   5  45   6   2   2  33 269   8   2 142   2\n",
      "   5   2  17  73  17 204   5   2  19  55   2   2  92  66 104  14  20  93\n",
      "  76   2 151  33   4  58  12 188   2 151  12 215  69 224 142  73 237   6\n",
      "   2   7   2   2 188   2 103  14  31  10  10 451   7   2   5   2  80  91\n",
      "   2  30   2  34  14  20 151  50  26 131  49   2  84  46  50  37  80  79\n",
      "   6   2  46   7  14  20  10  10 470 158]\n"
     ]
    }
   ],
   "source": [
    "print(train_seq[0])"
   ]
  },
  {
   "cell_type": "code",
   "execution_count": 15,
   "id": "5cdc0fbc",
   "metadata": {},
   "outputs": [
    {
     "name": "stdout",
     "output_type": "stream",
     "text": [
      "[6, 2, 46, 7, 14, 20, 10, 10, 470, 158]\n"
     ]
    }
   ],
   "source": [
    "print(train_input[0][-10:])"
   ]
  },
  {
   "cell_type": "code",
   "execution_count": 16,
   "id": "85b03c5c",
   "metadata": {},
   "outputs": [
    {
     "name": "stdout",
     "output_type": "stream",
     "text": [
      "[  0   0   0   0   1   2 195  19  49   2   2 190   4   2 352   2 183  10\n",
      "  10  13  82  79   4   2  36  71 269   8   2  25  19  49   7   4   2   2\n",
      "   2   2   2  10  10  48  25  40   2  11   2   2  40   2   2   5   4   2\n",
      "   2  95  14 238  56 129   2  10  10  21   2  94 364 352   2   2  11 190\n",
      "  24 484   2   7  94 205 405  10  10  87   2  34  49   2   7   2   2   2\n",
      "   2   2 290   2  46  48  64  18   4   2]\n"
     ]
    }
   ],
   "source": [
    "print(train_seq[5])"
   ]
  },
  {
   "cell_type": "code",
   "execution_count": 17,
   "id": "a9d9912b",
   "metadata": {},
   "outputs": [],
   "source": [
    "val_seq = pad_sequences(val_input, maxlen = 100)"
   ]
  },
  {
   "cell_type": "code",
   "execution_count": 18,
   "id": "2c07ed32",
   "metadata": {},
   "outputs": [],
   "source": [
    "from tensorflow import keras\n",
    "model = keras.Sequential()\n",
    "model.add(keras.layers.SimpleRNN(8, input_shape = (100,500)))\n",
    "model.add(keras.layers.Dense(1,activation='sigmoid'))"
   ]
  },
  {
   "cell_type": "code",
   "execution_count": 19,
   "id": "0f2f29c0",
   "metadata": {},
   "outputs": [],
   "source": [
    "train_oh = keras.utils.to_categorical(train_seq)"
   ]
  },
  {
   "cell_type": "code",
   "execution_count": 20,
   "id": "6f2fe2dd",
   "metadata": {},
   "outputs": [
    {
     "name": "stdout",
     "output_type": "stream",
     "text": [
      "(20000, 100, 500)\n"
     ]
    }
   ],
   "source": [
    "print(train_oh.shape)"
   ]
  },
  {
   "cell_type": "code",
   "execution_count": 21,
   "id": "ef145779",
   "metadata": {},
   "outputs": [
    {
     "name": "stdout",
     "output_type": "stream",
     "text": [
      "[0. 0. 0. 0. 0. 0. 0. 0. 0. 0. 1. 0.]\n"
     ]
    }
   ],
   "source": [
    "print(train_oh[0][0][:12])"
   ]
  },
  {
   "cell_type": "code",
   "execution_count": 22,
   "id": "370ac1c8",
   "metadata": {},
   "outputs": [
    {
     "name": "stdout",
     "output_type": "stream",
     "text": [
      "1.0\n"
     ]
    }
   ],
   "source": [
    "print(np.sum(train_oh[0][0]))"
   ]
  },
  {
   "cell_type": "code",
   "execution_count": 23,
   "id": "88b0b7ab",
   "metadata": {},
   "outputs": [],
   "source": [
    "val_oh = keras.utils.to_categorical(val_seq)"
   ]
  },
  {
   "cell_type": "code",
   "execution_count": 24,
   "id": "2cc8463a",
   "metadata": {},
   "outputs": [
    {
     "name": "stdout",
     "output_type": "stream",
     "text": [
      "Model: \"sequential\"\n",
      "_________________________________________________________________\n",
      "Layer (type)                 Output Shape              Param #   \n",
      "=================================================================\n",
      "simple_rnn (SimpleRNN)       (None, 8)                 4072      \n",
      "_________________________________________________________________\n",
      "dense (Dense)                (None, 1)                 9         \n",
      "=================================================================\n",
      "Total params: 4,081\n",
      "Trainable params: 4,081\n",
      "Non-trainable params: 0\n",
      "_________________________________________________________________\n"
     ]
    }
   ],
   "source": [
    "model.summary()"
   ]
  },
  {
   "cell_type": "code",
   "execution_count": 25,
   "id": "8fa20c04",
   "metadata": {},
   "outputs": [
    {
     "name": "stdout",
     "output_type": "stream",
     "text": [
      "(500,)\n",
      "[0. 0. 0. 0. 0. 0. 0. 0. 0. 0. 1. 0. 0. 0. 0. 0. 0. 0. 0. 0. 0. 0. 0. 0.\n",
      " 0. 0. 0. 0. 0. 0. 0. 0. 0. 0. 0. 0. 0. 0. 0. 0. 0. 0. 0. 0. 0. 0. 0. 0.\n",
      " 0. 0. 0. 0. 0. 0. 0. 0. 0. 0. 0. 0. 0. 0. 0. 0. 0. 0. 0. 0. 0. 0. 0. 0.\n",
      " 0. 0. 0. 0. 0. 0. 0. 0. 0. 0. 0. 0. 0. 0. 0. 0. 0. 0. 0. 0. 0. 0. 0. 0.\n",
      " 0. 0. 0. 0. 0. 0. 0. 0. 0. 0. 0. 0. 0. 0. 0. 0. 0. 0. 0. 0. 0. 0. 0. 0.\n",
      " 0. 0. 0. 0. 0. 0. 0. 0. 0. 0. 0. 0. 0. 0. 0. 0. 0. 0. 0. 0. 0. 0. 0. 0.\n",
      " 0. 0. 0. 0. 0. 0. 0. 0. 0. 0. 0. 0. 0. 0. 0. 0. 0. 0. 0. 0. 0. 0. 0. 0.\n",
      " 0. 0. 0. 0. 0. 0. 0. 0. 0. 0. 0. 0. 0. 0. 0. 0. 0. 0. 0. 0. 0. 0. 0. 0.\n",
      " 0. 0. 0. 0. 0. 0. 0. 0. 0. 0. 0. 0. 0. 0. 0. 0. 0. 0. 0. 0. 0. 0. 0. 0.\n",
      " 0. 0. 0. 0. 0. 0. 0. 0. 0. 0. 0. 0. 0. 0. 0. 0. 0. 0. 0. 0. 0. 0. 0. 0.\n",
      " 0. 0. 0. 0. 0. 0. 0. 0. 0. 0. 0. 0. 0. 0. 0. 0. 0. 0. 0. 0. 0. 0. 0. 0.\n",
      " 0. 0. 0. 0. 0. 0. 0. 0. 0. 0. 0. 0. 0. 0. 0. 0. 0. 0. 0. 0. 0. 0. 0. 0.\n",
      " 0. 0. 0. 0. 0. 0. 0. 0. 0. 0. 0. 0. 0. 0. 0. 0. 0. 0. 0. 0. 0. 0. 0. 0.\n",
      " 0. 0. 0. 0. 0. 0. 0. 0. 0. 0. 0. 0. 0. 0. 0. 0. 0. 0. 0. 0. 0. 0. 0. 0.\n",
      " 0. 0. 0. 0. 0. 0. 0. 0. 0. 0. 0. 0. 0. 0. 0. 0. 0. 0. 0. 0. 0. 0. 0. 0.\n",
      " 0. 0. 0. 0. 0. 0. 0. 0. 0. 0. 0. 0. 0. 0. 0. 0. 0. 0. 0. 0. 0. 0. 0. 0.\n",
      " 0. 0. 0. 0. 0. 0. 0. 0. 0. 0. 0. 0. 0. 0. 0. 0. 0. 0. 0. 0. 0. 0. 0. 0.\n",
      " 0. 0. 0. 0. 0. 0. 0. 0. 0. 0. 0. 0. 0. 0. 0. 0. 0. 0. 0. 0. 0. 0. 0. 0.\n",
      " 0. 0. 0. 0. 0. 0. 0. 0. 0. 0. 0. 0. 0. 0. 0. 0. 0. 0. 0. 0. 0. 0. 0. 0.\n",
      " 0. 0. 0. 0. 0. 0. 0. 0. 0. 0. 0. 0. 0. 0. 0. 0. 0. 0. 0. 0. 0. 0. 0. 0.\n",
      " 0. 0. 0. 0. 0. 0. 0. 0. 0. 0. 0. 0. 0. 0. 0. 0. 0. 0. 0. 0.]\n"
     ]
    }
   ],
   "source": [
    "print(train_oh[0][0].shape)\n",
    "print(train_oh[0][0])"
   ]
  },
  {
   "cell_type": "code",
   "execution_count": 25,
   "id": "84a06677",
   "metadata": {
    "scrolled": false
   },
   "outputs": [
    {
     "name": "stdout",
     "output_type": "stream",
     "text": [
      "Epoch 1/100\n",
      "313/313 [==============================] - 20s 65ms/step - loss: 0.6963 - accuracy: 0.5042 - val_loss: 0.6932 - val_accuracy: 0.5226\n",
      "Epoch 2/100\n",
      "313/313 [==============================] - 20s 62ms/step - loss: 0.6913 - accuracy: 0.5243 - val_loss: 0.6891 - val_accuracy: 0.5370\n",
      "Epoch 3/100\n",
      "313/313 [==============================] - 19s 61ms/step - loss: 0.6840 - accuracy: 0.5642 - val_loss: 0.6818 - val_accuracy: 0.5674\n",
      "Epoch 4/100\n",
      "313/313 [==============================] - 19s 61ms/step - loss: 0.6763 - accuracy: 0.5932 - val_loss: 0.6763 - val_accuracy: 0.5858\n",
      "Epoch 5/100\n",
      "313/313 [==============================] - 19s 61ms/step - loss: 0.6697 - accuracy: 0.6098 - val_loss: 0.6709 - val_accuracy: 0.5990\n",
      "Epoch 6/100\n",
      "313/313 [==============================] - 19s 60ms/step - loss: 0.6624 - accuracy: 0.6256 - val_loss: 0.6642 - val_accuracy: 0.6142\n",
      "Epoch 7/100\n",
      "313/313 [==============================] - 19s 62ms/step - loss: 0.6557 - accuracy: 0.6344 - val_loss: 0.6589 - val_accuracy: 0.6206\n",
      "Epoch 8/100\n",
      "313/313 [==============================] - 21s 66ms/step - loss: 0.6485 - accuracy: 0.6432 - val_loss: 0.6546 - val_accuracy: 0.6292\n",
      "Epoch 9/100\n",
      "313/313 [==============================] - 20s 63ms/step - loss: 0.6414 - accuracy: 0.6533 - val_loss: 0.6453 - val_accuracy: 0.6384\n",
      "Epoch 10/100\n",
      "313/313 [==============================] - 21s 68ms/step - loss: 0.6329 - accuracy: 0.6612 - val_loss: 0.6391 - val_accuracy: 0.6468\n",
      "Epoch 11/100\n",
      "313/313 [==============================] - 19s 62ms/step - loss: 0.6254 - accuracy: 0.6712 - val_loss: 0.6325 - val_accuracy: 0.6544\n",
      "Epoch 12/100\n",
      "313/313 [==============================] - 20s 65ms/step - loss: 0.6172 - accuracy: 0.6779 - val_loss: 0.6257 - val_accuracy: 0.6606\n",
      "Epoch 13/100\n",
      "313/313 [==============================] - 20s 64ms/step - loss: 0.6105 - accuracy: 0.6840 - val_loss: 0.6228 - val_accuracy: 0.6608\n",
      "Epoch 14/100\n",
      "313/313 [==============================] - 20s 65ms/step - loss: 0.6022 - accuracy: 0.6939 - val_loss: 0.6127 - val_accuracy: 0.6750\n",
      "Epoch 15/100\n",
      "313/313 [==============================] - 21s 66ms/step - loss: 0.5966 - accuracy: 0.6971 - val_loss: 0.6070 - val_accuracy: 0.6788\n",
      "Epoch 16/100\n",
      "313/313 [==============================] - 20s 64ms/step - loss: 0.5883 - accuracy: 0.7045 - val_loss: 0.6027 - val_accuracy: 0.6838\n",
      "Epoch 17/100\n",
      "313/313 [==============================] - 20s 62ms/step - loss: 0.5818 - accuracy: 0.7094 - val_loss: 0.5920 - val_accuracy: 0.6934\n",
      "Epoch 18/100\n",
      "313/313 [==============================] - 19s 60ms/step - loss: 0.5734 - accuracy: 0.7171 - val_loss: 0.5838 - val_accuracy: 0.7024\n",
      "Epoch 19/100\n",
      "313/313 [==============================] - 20s 63ms/step - loss: 0.5691 - accuracy: 0.7187 - val_loss: 0.5787 - val_accuracy: 0.7074\n",
      "Epoch 20/100\n",
      "313/313 [==============================] - 20s 65ms/step - loss: 0.5615 - accuracy: 0.7265 - val_loss: 0.5827 - val_accuracy: 0.6986\n",
      "Epoch 21/100\n",
      "313/313 [==============================] - 20s 64ms/step - loss: 0.5533 - accuracy: 0.7337 - val_loss: 0.5740 - val_accuracy: 0.7104\n",
      "Epoch 22/100\n",
      "313/313 [==============================] - 20s 65ms/step - loss: 0.5469 - accuracy: 0.7388 - val_loss: 0.5640 - val_accuracy: 0.7198\n",
      "Epoch 23/100\n",
      "313/313 [==============================] - 20s 63ms/step - loss: 0.5421 - accuracy: 0.7426 - val_loss: 0.5585 - val_accuracy: 0.7208\n",
      "Epoch 24/100\n",
      "313/313 [==============================] - 19s 61ms/step - loss: 0.5377 - accuracy: 0.7444 - val_loss: 0.5601 - val_accuracy: 0.7198\n",
      "Epoch 25/100\n",
      "313/313 [==============================] - 20s 64ms/step - loss: 0.5299 - accuracy: 0.7513 - val_loss: 0.5513 - val_accuracy: 0.7256\n",
      "Epoch 26/100\n",
      "313/313 [==============================] - 20s 64ms/step - loss: 0.5247 - accuracy: 0.7547 - val_loss: 0.5441 - val_accuracy: 0.7310\n",
      "Epoch 27/100\n",
      "313/313 [==============================] - 20s 64ms/step - loss: 0.5186 - accuracy: 0.7601 - val_loss: 0.5434 - val_accuracy: 0.7330\n",
      "Epoch 28/100\n",
      "313/313 [==============================] - 21s 67ms/step - loss: 0.5122 - accuracy: 0.7635 - val_loss: 0.5391 - val_accuracy: 0.7368\n",
      "Epoch 29/100\n",
      "313/313 [==============================] - 21s 66ms/step - loss: 0.5073 - accuracy: 0.7680 - val_loss: 0.5321 - val_accuracy: 0.7412\n",
      "Epoch 30/100\n",
      "313/313 [==============================] - 20s 64ms/step - loss: 0.5025 - accuracy: 0.7708 - val_loss: 0.5292 - val_accuracy: 0.7430\n",
      "Epoch 31/100\n",
      "313/313 [==============================] - 20s 64ms/step - loss: 0.4978 - accuracy: 0.7724 - val_loss: 0.5263 - val_accuracy: 0.7446\n",
      "Epoch 32/100\n",
      "313/313 [==============================] - 20s 64ms/step - loss: 0.4930 - accuracy: 0.7764 - val_loss: 0.5239 - val_accuracy: 0.7480\n",
      "Epoch 33/100\n",
      "313/313 [==============================] - 21s 66ms/step - loss: 0.4885 - accuracy: 0.7801 - val_loss: 0.5230 - val_accuracy: 0.7480\n",
      "Epoch 34/100\n",
      "313/313 [==============================] - 20s 63ms/step - loss: 0.4841 - accuracy: 0.7829 - val_loss: 0.5191 - val_accuracy: 0.7498\n",
      "Epoch 35/100\n",
      "313/313 [==============================] - 19s 61ms/step - loss: 0.4808 - accuracy: 0.7851 - val_loss: 0.5183 - val_accuracy: 0.7484\n",
      "Epoch 36/100\n",
      "313/313 [==============================] - 20s 62ms/step - loss: 0.4766 - accuracy: 0.7878 - val_loss: 0.5156 - val_accuracy: 0.7478\n",
      "Epoch 37/100\n",
      "313/313 [==============================] - 19s 62ms/step - loss: 0.4742 - accuracy: 0.7887 - val_loss: 0.5137 - val_accuracy: 0.7524\n",
      "Epoch 38/100\n",
      "313/313 [==============================] - 19s 61ms/step - loss: 0.4722 - accuracy: 0.7900 - val_loss: 0.5112 - val_accuracy: 0.7524\n",
      "Epoch 39/100\n",
      "313/313 [==============================] - 19s 62ms/step - loss: 0.4692 - accuracy: 0.7909 - val_loss: 0.5118 - val_accuracy: 0.7532\n",
      "Epoch 40/100\n",
      "313/313 [==============================] - 19s 60ms/step - loss: 0.4674 - accuracy: 0.7909 - val_loss: 0.5071 - val_accuracy: 0.7562\n",
      "Epoch 41/100\n",
      "313/313 [==============================] - 19s 61ms/step - loss: 0.4651 - accuracy: 0.7940 - val_loss: 0.5060 - val_accuracy: 0.7576\n",
      "Epoch 42/100\n",
      "313/313 [==============================] - 19s 62ms/step - loss: 0.4625 - accuracy: 0.7968 - val_loss: 0.5028 - val_accuracy: 0.7596\n",
      "Epoch 43/100\n",
      "313/313 [==============================] - 20s 63ms/step - loss: 0.4590 - accuracy: 0.7993 - val_loss: 0.5006 - val_accuracy: 0.7602\n",
      "Epoch 44/100\n",
      "313/313 [==============================] - 19s 59ms/step - loss: 0.4580 - accuracy: 0.7988 - val_loss: 0.4985 - val_accuracy: 0.7636\n",
      "Epoch 45/100\n",
      "313/313 [==============================] - 19s 61ms/step - loss: 0.4558 - accuracy: 0.8000 - val_loss: 0.4991 - val_accuracy: 0.7632\n",
      "Epoch 46/100\n",
      "313/313 [==============================] - 19s 61ms/step - loss: 0.4540 - accuracy: 0.8015 - val_loss: 0.4952 - val_accuracy: 0.7668\n",
      "Epoch 47/100\n",
      "313/313 [==============================] - 19s 62ms/step - loss: 0.4515 - accuracy: 0.8023 - val_loss: 0.4960 - val_accuracy: 0.7664\n",
      "Epoch 48/100\n",
      "313/313 [==============================] - 19s 61ms/step - loss: 0.4496 - accuracy: 0.8037 - val_loss: 0.4931 - val_accuracy: 0.7666\n",
      "Epoch 49/100\n",
      "313/313 [==============================] - 19s 61ms/step - loss: 0.4469 - accuracy: 0.8065 - val_loss: 0.4929 - val_accuracy: 0.7654\n",
      "Epoch 50/100\n",
      "313/313 [==============================] - 20s 63ms/step - loss: 0.4456 - accuracy: 0.8062 - val_loss: 0.4927 - val_accuracy: 0.7666\n",
      "Epoch 51/100\n",
      "313/313 [==============================] - 21s 66ms/step - loss: 0.4432 - accuracy: 0.8076 - val_loss: 0.4940 - val_accuracy: 0.7660\n",
      "Epoch 52/100\n",
      "313/313 [==============================] - 20s 65ms/step - loss: 0.4418 - accuracy: 0.8077 - val_loss: 0.4905 - val_accuracy: 0.7674\n",
      "Epoch 53/100\n",
      "313/313 [==============================] - 20s 63ms/step - loss: 0.4398 - accuracy: 0.8098 - val_loss: 0.4893 - val_accuracy: 0.7678\n",
      "Epoch 54/100\n",
      "313/313 [==============================] - 20s 63ms/step - loss: 0.4382 - accuracy: 0.8100 - val_loss: 0.4865 - val_accuracy: 0.7702\n",
      "Epoch 55/100\n",
      "313/313 [==============================] - 20s 63ms/step - loss: 0.4370 - accuracy: 0.8122 - val_loss: 0.4889 - val_accuracy: 0.7682\n",
      "Epoch 56/100\n",
      "313/313 [==============================] - 20s 63ms/step - loss: 0.4344 - accuracy: 0.8124 - val_loss: 0.4860 - val_accuracy: 0.7696\n",
      "Epoch 57/100\n",
      "313/313 [==============================] - 21s 66ms/step - loss: 0.4333 - accuracy: 0.8123 - val_loss: 0.4898 - val_accuracy: 0.7668\n",
      "Epoch 58/100\n",
      "313/313 [==============================] - 20s 63ms/step - loss: 0.4311 - accuracy: 0.8148 - val_loss: 0.4863 - val_accuracy: 0.7700\n",
      "Epoch 59/100\n",
      "313/313 [==============================] - 20s 64ms/step - loss: 0.4299 - accuracy: 0.8149 - val_loss: 0.4848 - val_accuracy: 0.7684\n",
      "Epoch 60/100\n",
      "313/313 [==============================] - 20s 63ms/step - loss: 0.4275 - accuracy: 0.8160 - val_loss: 0.4852 - val_accuracy: 0.7718\n",
      "Epoch 61/100\n",
      "313/313 [==============================] - 21s 66ms/step - loss: 0.4263 - accuracy: 0.8161 - val_loss: 0.4827 - val_accuracy: 0.7696\n",
      "Epoch 62/100\n",
      "313/313 [==============================] - 20s 63ms/step - loss: 0.4246 - accuracy: 0.8175 - val_loss: 0.4833 - val_accuracy: 0.7706\n",
      "Epoch 63/100\n",
      "313/313 [==============================] - 20s 62ms/step - loss: 0.4235 - accuracy: 0.8177 - val_loss: 0.4835 - val_accuracy: 0.7710\n",
      "Epoch 64/100\n",
      "313/313 [==============================] - 19s 62ms/step - loss: 0.4211 - accuracy: 0.8202 - val_loss: 0.4820 - val_accuracy: 0.7700\n",
      "Epoch 65/100\n",
      "313/313 [==============================] - 19s 61ms/step - loss: 0.4196 - accuracy: 0.8202 - val_loss: 0.4818 - val_accuracy: 0.7732\n",
      "Epoch 66/100\n",
      "313/313 [==============================] - 20s 63ms/step - loss: 0.4188 - accuracy: 0.8208 - val_loss: 0.4819 - val_accuracy: 0.7722\n",
      "Epoch 67/100\n",
      "313/313 [==============================] - 20s 63ms/step - loss: 0.4172 - accuracy: 0.8217 - val_loss: 0.4807 - val_accuracy: 0.7754\n",
      "Epoch 68/100\n",
      "313/313 [==============================] - 20s 64ms/step - loss: 0.4157 - accuracy: 0.8223 - val_loss: 0.4796 - val_accuracy: 0.7716\n",
      "Epoch 69/100\n",
      "313/313 [==============================] - 21s 66ms/step - loss: 0.4142 - accuracy: 0.8235 - val_loss: 0.4808 - val_accuracy: 0.7728\n",
      "Epoch 70/100\n",
      "313/313 [==============================] - 20s 63ms/step - loss: 0.4127 - accuracy: 0.8254 - val_loss: 0.4825 - val_accuracy: 0.7756\n",
      "Epoch 71/100\n",
      "313/313 [==============================] - 20s 64ms/step - loss: 0.4114 - accuracy: 0.8260 - val_loss: 0.4804 - val_accuracy: 0.7746\n"
     ]
    }
   ],
   "source": [
    "rmsprop = keras.optimizers.RMSprop(learning_rate = 1e-4)\n",
    "model.compile(optimizer = rmsprop, loss = 'binary_crossentropy', metrics = ['accuracy'])\n",
    "checkpoint_cb = keras.callbacks.ModelCheckpoint('best-simplernn-model.h5', save_best_only = True)\n",
    "early_stopping_cb = keras.callbacks.EarlyStopping(patience = 3, restore_best_weights = True)\n",
    "history = model.fit(train_oh, train_target, epochs = 100, batch_size = 64, validation_data = (val_oh, val_target), callbacks = [checkpoint_cb, early_stopping_cb])"
   ]
  },
  {
   "cell_type": "code",
   "execution_count": 26,
   "id": "24d17e15",
   "metadata": {},
   "outputs": [
    {
     "ename": "NameError",
     "evalue": "name 'history' is not defined",
     "output_type": "error",
     "traceback": [
      "\u001b[1;31m---------------------------------------------------------------------------\u001b[0m",
      "\u001b[1;31mNameError\u001b[0m                                 Traceback (most recent call last)",
      "\u001b[1;32m~\\AppData\\Local\\Temp\\ipykernel_66664\\826413089.py\u001b[0m in \u001b[0;36m<module>\u001b[1;34m\u001b[0m\n\u001b[1;32m----> 1\u001b[1;33m \u001b[0mplt\u001b[0m\u001b[1;33m.\u001b[0m\u001b[0mplot\u001b[0m\u001b[1;33m(\u001b[0m\u001b[0mhistory\u001b[0m\u001b[1;33m.\u001b[0m\u001b[0mhistory\u001b[0m\u001b[1;33m[\u001b[0m\u001b[1;34m'loss'\u001b[0m\u001b[1;33m]\u001b[0m\u001b[1;33m)\u001b[0m\u001b[1;33m\u001b[0m\u001b[0m\n\u001b[0m\u001b[0;32m      2\u001b[0m \u001b[0mplt\u001b[0m\u001b[1;33m.\u001b[0m\u001b[0mplot\u001b[0m\u001b[1;33m(\u001b[0m\u001b[0mhistory\u001b[0m\u001b[1;33m.\u001b[0m\u001b[0mhistory\u001b[0m\u001b[1;33m[\u001b[0m\u001b[1;34m'val_loss'\u001b[0m\u001b[1;33m]\u001b[0m\u001b[1;33m)\u001b[0m\u001b[1;33m\u001b[0m\u001b[0m\n\u001b[0;32m      3\u001b[0m \u001b[0mplt\u001b[0m\u001b[1;33m.\u001b[0m\u001b[0mxlabel\u001b[0m\u001b[1;33m(\u001b[0m\u001b[1;34m'epoch'\u001b[0m\u001b[1;33m)\u001b[0m\u001b[1;33m\u001b[0m\u001b[0m\n\u001b[0;32m      4\u001b[0m \u001b[0mplt\u001b[0m\u001b[1;33m.\u001b[0m\u001b[0mylabel\u001b[0m\u001b[1;33m(\u001b[0m\u001b[1;34m'loss'\u001b[0m\u001b[1;33m)\u001b[0m\u001b[1;33m\u001b[0m\u001b[0m\n\u001b[0;32m      5\u001b[0m \u001b[0mplt\u001b[0m\u001b[1;33m.\u001b[0m\u001b[0mlegend\u001b[0m\u001b[1;33m(\u001b[0m\u001b[1;33m[\u001b[0m\u001b[1;34m'train'\u001b[0m\u001b[1;33m,\u001b[0m\u001b[1;34m'val'\u001b[0m\u001b[1;33m]\u001b[0m\u001b[1;33m)\u001b[0m\u001b[1;33m\u001b[0m\u001b[0m\n",
      "\u001b[1;31mNameError\u001b[0m: name 'history' is not defined"
     ]
    }
   ],
   "source": [
    "plt.plot(history.history['loss'])\n",
    "plt.plot(history.history['val_loss'])\n",
    "plt.xlabel('epoch')\n",
    "plt.ylabel('loss')\n",
    "plt.legend(['train','val'])\n",
    "plt.show()"
   ]
  },
  {
   "cell_type": "code",
   "execution_count": 27,
   "id": "55c1cffc",
   "metadata": {},
   "outputs": [
    {
     "name": "stdout",
     "output_type": "stream",
     "text": [
      "8000000 4000000000\n"
     ]
    }
   ],
   "source": [
    "print(train_seq.nbytes, train_oh.nbytes)"
   ]
  },
  {
   "cell_type": "code",
   "execution_count": 28,
   "id": "2c2ed9e1",
   "metadata": {},
   "outputs": [],
   "source": [
    "model2 = keras.Sequential()\n",
    "model2.add(keras.layers.Embedding(500, 16, input_length=100))\n",
    "model2.add(keras.layers.SimpleRNN(8))\n",
    "model2.add(keras.layers.Dense(1, activation = 'sigmoid'))"
   ]
  },
  {
   "cell_type": "code",
   "execution_count": 29,
   "id": "114dfcef",
   "metadata": {},
   "outputs": [
    {
     "name": "stdout",
     "output_type": "stream",
     "text": [
      "Model: \"sequential_1\"\n",
      "_________________________________________________________________\n",
      "Layer (type)                 Output Shape              Param #   \n",
      "=================================================================\n",
      "embedding (Embedding)        (None, 100, 16)           8000      \n",
      "_________________________________________________________________\n",
      "simple_rnn_1 (SimpleRNN)     (None, 8)                 200       \n",
      "_________________________________________________________________\n",
      "dense_1 (Dense)              (None, 1)                 9         \n",
      "=================================================================\n",
      "Total params: 8,209\n",
      "Trainable params: 8,209\n",
      "Non-trainable params: 0\n",
      "_________________________________________________________________\n"
     ]
    }
   ],
   "source": [
    "model2.summary()"
   ]
  },
  {
   "cell_type": "code",
   "execution_count": 30,
   "id": "a9e9b59f",
   "metadata": {
    "scrolled": false
   },
   "outputs": [
    {
     "name": "stdout",
     "output_type": "stream",
     "text": [
      "Epoch 1/100\n",
      "313/313 [==============================] - 22s 71ms/step - loss: 0.6958 - accuracy: 0.5080 - val_loss: 0.6898 - val_accuracy: 0.5320\n",
      "Epoch 2/100\n",
      "313/313 [==============================] - 21s 67ms/step - loss: 0.6855 - accuracy: 0.5501 - val_loss: 0.6802 - val_accuracy: 0.5764\n",
      "Epoch 3/100\n",
      "313/313 [==============================] - 21s 66ms/step - loss: 0.6586 - accuracy: 0.6238 - val_loss: 0.6256 - val_accuracy: 0.6856\n",
      "Epoch 4/100\n",
      "313/313 [==============================] - 21s 66ms/step - loss: 0.6026 - accuracy: 0.7082 - val_loss: 0.5867 - val_accuracy: 0.7168\n",
      "Epoch 5/100\n",
      "313/313 [==============================] - 21s 67ms/step - loss: 0.5661 - accuracy: 0.7380 - val_loss: 0.5614 - val_accuracy: 0.7348\n",
      "Epoch 6/100\n",
      "313/313 [==============================] - 23s 73ms/step - loss: 0.5393 - accuracy: 0.7546 - val_loss: 0.5368 - val_accuracy: 0.7550\n",
      "Epoch 7/100\n",
      "313/313 [==============================] - 23s 72ms/step - loss: 0.5180 - accuracy: 0.7687 - val_loss: 0.5218 - val_accuracy: 0.7568\n",
      "Epoch 8/100\n",
      "313/313 [==============================] - 22s 69ms/step - loss: 0.5029 - accuracy: 0.7768 - val_loss: 0.5097 - val_accuracy: 0.7654\n",
      "Epoch 9/100\n",
      "313/313 [==============================] - 24s 76ms/step - loss: 0.4897 - accuracy: 0.7836 - val_loss: 0.5026 - val_accuracy: 0.7680\n",
      "Epoch 10/100\n",
      "313/313 [==============================] - 26s 82ms/step - loss: 0.4783 - accuracy: 0.7894 - val_loss: 0.4956 - val_accuracy: 0.7712\n",
      "Epoch 11/100\n",
      "313/313 [==============================] - 23s 75ms/step - loss: 0.4694 - accuracy: 0.7941 - val_loss: 0.4889 - val_accuracy: 0.7740\n",
      "Epoch 12/100\n",
      "313/313 [==============================] - 24s 77ms/step - loss: 0.4625 - accuracy: 0.7972 - val_loss: 0.4822 - val_accuracy: 0.7780\n",
      "Epoch 13/100\n",
      "313/313 [==============================] - 23s 75ms/step - loss: 0.4551 - accuracy: 0.8008 - val_loss: 0.4793 - val_accuracy: 0.7792\n",
      "Epoch 14/100\n",
      "313/313 [==============================] - 23s 73ms/step - loss: 0.4496 - accuracy: 0.8030 - val_loss: 0.4826 - val_accuracy: 0.7752\n",
      "Epoch 15/100\n",
      "313/313 [==============================] - 23s 73ms/step - loss: 0.4444 - accuracy: 0.8067 - val_loss: 0.4746 - val_accuracy: 0.7806\n",
      "Epoch 16/100\n",
      "313/313 [==============================] - 23s 73ms/step - loss: 0.4408 - accuracy: 0.8073 - val_loss: 0.4690 - val_accuracy: 0.7840\n",
      "Epoch 17/100\n",
      "313/313 [==============================] - 24s 75ms/step - loss: 0.4356 - accuracy: 0.8115 - val_loss: 0.4736 - val_accuracy: 0.7824\n",
      "Epoch 18/100\n",
      "313/313 [==============================] - 22s 72ms/step - loss: 0.4329 - accuracy: 0.8123 - val_loss: 0.4650 - val_accuracy: 0.7862\n",
      "Epoch 19/100\n",
      "313/313 [==============================] - 22s 71ms/step - loss: 0.4288 - accuracy: 0.8154 - val_loss: 0.4772 - val_accuracy: 0.7802\n",
      "Epoch 20/100\n",
      "313/313 [==============================] - 29s 94ms/step - loss: 0.4265 - accuracy: 0.8154 - val_loss: 0.4617 - val_accuracy: 0.7862\n",
      "Epoch 21/100\n",
      "313/313 [==============================] - 29s 93ms/step - loss: 0.4228 - accuracy: 0.8173 - val_loss: 0.4627 - val_accuracy: 0.7864\n",
      "Epoch 22/100\n",
      "313/313 [==============================] - 27s 88ms/step - loss: 0.4206 - accuracy: 0.8184 - val_loss: 0.4618 - val_accuracy: 0.7912\n",
      "Epoch 23/100\n",
      "313/313 [==============================] - 27s 88ms/step - loss: 0.4181 - accuracy: 0.8195 - val_loss: 0.4576 - val_accuracy: 0.7882\n",
      "Epoch 24/100\n",
      "313/313 [==============================] - 29s 91ms/step - loss: 0.4146 - accuracy: 0.8218 - val_loss: 0.4570 - val_accuracy: 0.7888\n",
      "Epoch 25/100\n",
      "313/313 [==============================] - 29s 93ms/step - loss: 0.4122 - accuracy: 0.8227 - val_loss: 0.4564 - val_accuracy: 0.7898\n",
      "Epoch 26/100\n",
      "313/313 [==============================] - 29s 92ms/step - loss: 0.4097 - accuracy: 0.8255 - val_loss: 0.4679 - val_accuracy: 0.7854\n",
      "Epoch 27/100\n",
      "313/313 [==============================] - 29s 93ms/step - loss: 0.4077 - accuracy: 0.8256 - val_loss: 0.4570 - val_accuracy: 0.7890\n",
      "Epoch 28/100\n",
      "313/313 [==============================] - 29s 91ms/step - loss: 0.4050 - accuracy: 0.8284 - val_loss: 0.4718 - val_accuracy: 0.7810\n"
     ]
    }
   ],
   "source": [
    "from tensorflow import keras\n",
    "rmsprop = keras.optimizers.RMSprop(learning_rate = 1e-4)\n",
    "model2.compile(optimizer = rmsprop, loss='binary_crossentropy', metrics=['accuracy'])\n",
    "checkpoint_cb = keras.callbacks.ModelCheckpoint('best-embedding-model.h5', save_best_only = True)\n",
    "early_stopping_cb = keras.callbacks.EarlyStopping(patience = 3, restore_best_weights = True)\n",
    "history = model2.fit(train_seq, train_target, epochs = 100, batch_size = 64, validation_data = (val_seq, val_target), callbacks=[checkpoint_cb, early_stopping_cb])"
   ]
  },
  {
   "cell_type": "code",
   "execution_count": 31,
   "id": "2b6f3763",
   "metadata": {},
   "outputs": [
    {
     "data": {
      "image/png": "[encoded data removed]",
      "text/plain": [
       "<Figure size 640x480 with 1 Axes>"
      ]
     },
     "metadata": {},
     "output_type": "display_data"
    }
   ],
   "source": [
    "plt.plot(history.history['loss'])\n",
    "plt.plot(history.history['val_loss'])\n",
    "plt.xlabel('epoch')\n",
    "plt.ylabel('loss')\n",
    "plt.legend(['train', 'val'])\n",
    "plt.show()"
   ]
  },
  {
   "cell_type": "code",
   "execution_count": null,
   "id": "062c1f0d",
   "metadata": {},
   "outputs": [],
   "source": []
  }
 ],
 "metadata": {
  "kernelspec": {
   "display_name": "[tensorflow-gpu:2.3.0]",
   "language": "python",
   "name": "gpu_env"
  },
  "language_info": {
   "codemirror_mode": {
    "name": "ipython",
    "version": 3
   },
   "file_extension": ".py",
   "mimetype": "text/x-python",
   "name": "python",
   "nbconvert_exporter": "python",
   "pygments_lexer": "ipython3",
   "version": "3.7.0"
  }
 },
 "nbformat": 4,
 "nbformat_minor": 5
}
