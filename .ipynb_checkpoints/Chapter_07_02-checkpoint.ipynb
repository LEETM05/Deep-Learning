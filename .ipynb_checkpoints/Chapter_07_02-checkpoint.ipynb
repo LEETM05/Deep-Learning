{
 "cells": [
  {
   "cell_type": "code",
   "execution_count": 1,
   "metadata": {
    "colab": {
     "base_uri": "https://localhost:8080/"
    },
    "executionInfo": {
     "elapsed": 939,
     "status": "ok",
     "timestamp": 1704285378962,
     "user": {
      "displayName": "이태민",
      "userId": "07520030499917081884"
     },
     "user_tz": -540
    },
    "id": "2YybPwIXHCmc",
    "outputId": "ec9e10a9-a654-4d18-fca4-216a1b907286"
   },
   "outputs": [],
   "source": [
    "from tensorflow import keras\n",
    "(train_input, train_target), (test_input, test_target) = keras.datasets.fashion_mnist.load_data()"
   ]
  },
  {
   "cell_type": "code",
   "execution_count": 2,
   "metadata": {
    "executionInfo": {
     "elapsed": 4,
     "status": "ok",
     "timestamp": 1704285482634,
     "user": {
      "displayName": "이태민",
      "userId": "07520030499917081884"
     },
     "user_tz": -540
    },
    "id": "JZgIumUnUHUr"
   },
   "outputs": [],
   "source": [
    "from sklearn.model_selection import train_test_split\n",
    "train_scaled = train_input / 255.0\n",
    "train_scaled = train_scaled.reshape(-1, 28*28)\n",
    "train_scaled, val_scaled, train_target, val_scaled = train_test_split(train_scaled, train_target, random_state = 42)"
   ]
  },
  {
   "cell_type": "code",
   "execution_count": 3,
   "metadata": {
    "executionInfo": {
     "elapsed": 316,
     "status": "ok",
     "timestamp": 1704288435617,
     "user": {
      "displayName": "이태민",
      "userId": "07520030499917081884"
     },
     "user_tz": -540
    },
    "id": "QvcPeR9SUHYr"
   },
   "outputs": [],
   "source": [
    "dense1 = keras.layers.Dense(100, activation = 'sigmoid', input_shape =(784,))\n",
    "dense2 = keras.layers.Dense(10, activation = 'softmax')"
   ]
  },
  {
   "cell_type": "code",
   "execution_count": 4,
   "metadata": {
    "executionInfo": {
     "elapsed": 325,
     "status": "ok",
     "timestamp": 1704288464589,
     "user": {
      "displayName": "이태민",
      "userId": "07520030499917081884"
     },
     "user_tz": -540
    },
    "id": "UklQYZqQUHff"
   },
   "outputs": [],
   "source": [
    "model = keras.Sequential([dense1, dense2])"
   ]
  },
  {
   "cell_type": "code",
   "execution_count": 5,
   "metadata": {
    "colab": {
     "base_uri": "https://localhost:8080/"
    },
    "executionInfo": {
     "elapsed": 6,
     "status": "ok",
     "timestamp": 1704288474234,
     "user": {
      "displayName": "이태민",
      "userId": "07520030499917081884"
     },
     "user_tz": -540
    },
    "id": "8DispoHLUHwj",
    "outputId": "d02cdb60-30f0-476a-8c8a-d309fc17b5f8"
   },
   "outputs": [
    {
     "name": "stdout",
     "output_type": "stream",
     "text": [
      "Model: \"sequential\"\n",
      "_________________________________________________________________\n",
      "Layer (type)                 Output Shape              Param #   \n",
      "=================================================================\n",
      "dense (Dense)                (None, 100)               78500     \n",
      "_________________________________________________________________\n",
      "dense_1 (Dense)              (None, 10)                1010      \n",
      "=================================================================\n",
      "Total params: 79,510\n",
      "Trainable params: 79,510\n",
      "Non-trainable params: 0\n",
      "_________________________________________________________________\n"
     ]
    }
   ],
   "source": [
    "model.summary()"
   ]
  },
  {
   "cell_type": "code",
   "execution_count": 6,
   "metadata": {
    "executionInfo": {
     "elapsed": 331,
     "status": "ok",
     "timestamp": 1704288928920,
     "user": {
      "displayName": "이태민",
      "userId": "07520030499917081884"
     },
     "user_tz": -540
    },
    "id": "fbQtWbwmUJtv"
   },
   "outputs": [],
   "source": [
    "model = keras.Sequential([keras.layers.Dense(100, activation = 'sigmoid', input_shape = (784,), name = 'hidden'), keras.layers.Dense(10, activation='softmax', name = 'output')], name = '패션 MNIST 모델')"
   ]
  },
  {
   "cell_type": "code",
   "execution_count": 7,
   "metadata": {
    "colab": {
     "base_uri": "https://localhost:8080/"
    },
    "executionInfo": {
     "elapsed": 4,
     "status": "ok",
     "timestamp": 1704288937927,
     "user": {
      "displayName": "이태민",
      "userId": "07520030499917081884"
     },
     "user_tz": -540
    },
    "id": "l4_Euq-TUJ0j",
    "outputId": "ceb1873d-1851-484e-c8ee-c19121716906"
   },
   "outputs": [
    {
     "name": "stdout",
     "output_type": "stream",
     "text": [
      "Model: \"패션 MNIST 모델\"\n",
      "_________________________________________________________________\n",
      "Layer (type)                 Output Shape              Param #   \n",
      "=================================================================\n",
      "hidden (Dense)               (None, 100)               78500     \n",
      "_________________________________________________________________\n",
      "output (Dense)               (None, 10)                1010      \n",
      "=================================================================\n",
      "Total params: 79,510\n",
      "Trainable params: 79,510\n",
      "Non-trainable params: 0\n",
      "_________________________________________________________________\n"
     ]
    }
   ],
   "source": [
    "model.summary()"
   ]
  },
  {
   "cell_type": "code",
   "execution_count": 8,
   "metadata": {
    "executionInfo": {
     "elapsed": 340,
     "status": "ok",
     "timestamp": 1704289000722,
     "user": {
      "displayName": "이태민",
      "userId": "07520030499917081884"
     },
     "user_tz": -540
    },
    "id": "zWjJi40jiYV7"
   },
   "outputs": [],
   "source": [
    "model = keras.Sequential()\n",
    "model.add(keras.layers.Dense(100, activation = 'sigmoid', input_shape = (784,)))\n",
    "model.add(keras.layers.Dense(10, activation = 'softmax'))"
   ]
  },
  {
   "cell_type": "code",
   "execution_count": 9,
   "metadata": {
    "colab": {
     "base_uri": "https://localhost:8080/"
    },
    "executionInfo": {
     "elapsed": 433,
     "status": "ok",
     "timestamp": 1704289007720,
     "user": {
      "displayName": "이태민",
      "userId": "07520030499917081884"
     },
     "user_tz": -540
    },
    "id": "Re7wclwzUKZA",
    "outputId": "e15c30be-2980-450a-c68d-8d6d6fb7aff0"
   },
   "outputs": [
    {
     "name": "stdout",
     "output_type": "stream",
     "text": [
      "Model: \"sequential_1\"\n",
      "_________________________________________________________________\n",
      "Layer (type)                 Output Shape              Param #   \n",
      "=================================================================\n",
      "dense_2 (Dense)              (None, 100)               78500     \n",
      "_________________________________________________________________\n",
      "dense_3 (Dense)              (None, 10)                1010      \n",
      "=================================================================\n",
      "Total params: 79,510\n",
      "Trainable params: 79,510\n",
      "Non-trainable params: 0\n",
      "_________________________________________________________________\n"
     ]
    }
   ],
   "source": [
    "model.summary()"
   ]
  },
  {
   "cell_type": "code",
   "execution_count": 10,
   "metadata": {
    "colab": {
     "base_uri": "https://localhost:8080/"
    },
    "executionInfo": {
     "elapsed": 21622,
     "status": "ok",
     "timestamp": 1704289125360,
     "user": {
      "displayName": "이태민",
      "userId": "07520030499917081884"
     },
     "user_tz": -540
    },
    "id": "KcPFaVgAUKU3",
    "outputId": "8d63493d-e56d-4e4a-d9e9-173b2f963cab"
   },
   "outputs": [
    {
     "name": "stdout",
     "output_type": "stream",
     "text": [
      "Epoch 1/5\n",
      "   1/1407 [..............................] - ETA: 0s - loss: 2.4928 - accuracy: 0.1250WARNING:tensorflow:Callbacks method `on_train_batch_end` is slow compared to the batch time (batch time: 0.0000s vs `on_train_batch_end` time: 0.0125s). Check your callbacks.\n",
      "1407/1407 [==============================] - 4s 3ms/step - loss: 0.5736 - accuracy: 0.8044\n",
      "Epoch 2/5\n",
      "1407/1407 [==============================] - 4s 3ms/step - loss: 0.4132 - accuracy: 0.8524\n",
      "Epoch 3/5\n",
      "1407/1407 [==============================] - 4s 3ms/step - loss: 0.3790 - accuracy: 0.8624\n",
      "Epoch 4/5\n",
      "1407/1407 [==============================] - 4s 3ms/step - loss: 0.3554 - accuracy: 0.8724\n",
      "Epoch 5/5\n",
      "1407/1407 [==============================] - 4s 3ms/step - loss: 0.3373 - accuracy: 0.8795\n"
     ]
    },
    {
     "data": {
      "text/plain": [
       "<tensorflow.python.keras.callbacks.History at 0x28386c56f98>"
      ]
     },
     "execution_count": 10,
     "metadata": {},
     "output_type": "execute_result"
    }
   ],
   "source": [
    "model.compile(loss='sparse_categorical_crossentropy', metrics = 'accuracy')\n",
    "model.fit(train_scaled, train_target, epochs = 5)"
   ]
  },
  {
   "cell_type": "code",
   "execution_count": 11,
   "metadata": {
    "executionInfo": {
     "elapsed": 333,
     "status": "ok",
     "timestamp": 1704290068515,
     "user": {
      "displayName": "이태민",
      "userId": "07520030499917081884"
     },
     "user_tz": -540
    },
    "id": "gPWAGkibUKPq"
   },
   "outputs": [],
   "source": [
    "model = keras.Sequential()\n",
    "model.add(keras.layers.Flatten(input_shape=(28,28)))\n",
    "model.add(keras.layers.Dense(100, activation = 'relu'))\n",
    "model.add(keras.layers.Dense(10, activation = 'softmax'))"
   ]
  },
  {
   "cell_type": "code",
   "execution_count": 12,
   "metadata": {
    "colab": {
     "base_uri": "https://localhost:8080/"
    },
    "executionInfo": {
     "elapsed": 5,
     "status": "ok",
     "timestamp": 1704290078980,
     "user": {
      "displayName": "이태민",
      "userId": "07520030499917081884"
     },
     "user_tz": -540
    },
    "id": "ippycQjIUJ9J",
    "outputId": "2e3d884d-3855-4a31-fd66-8a65a24ffa59"
   },
   "outputs": [
    {
     "name": "stdout",
     "output_type": "stream",
     "text": [
      "Model: \"sequential_2\"\n",
      "_________________________________________________________________\n",
      "Layer (type)                 Output Shape              Param #   \n",
      "=================================================================\n",
      "flatten (Flatten)            (None, 784)               0         \n",
      "_________________________________________________________________\n",
      "dense_4 (Dense)              (None, 100)               78500     \n",
      "_________________________________________________________________\n",
      "dense_5 (Dense)              (None, 10)                1010      \n",
      "=================================================================\n",
      "Total params: 79,510\n",
      "Trainable params: 79,510\n",
      "Non-trainable params: 0\n",
      "_________________________________________________________________\n"
     ]
    }
   ],
   "source": [
    "model.summary()"
   ]
  },
  {
   "cell_type": "code",
   "execution_count": 13,
   "metadata": {
    "executionInfo": {
     "elapsed": 876,
     "status": "ok",
     "timestamp": 1704290180406,
     "user": {
      "displayName": "이태민",
      "userId": "07520030499917081884"
     },
     "user_tz": -540
    },
    "id": "3SsSdtVQUH6I"
   },
   "outputs": [],
   "source": [
    "(train_input, train_target), (test_input, test_target) = keras.datasets.fashion_mnist.load_data()\n",
    "train_scaled = train_input / 255.0\n",
    "train_scaled, val_scaled, train_target, val_target = train_test_split(train_scaled, train_target, test_size = 0.2, random_state = 42)"
   ]
  },
  {
   "cell_type": "code",
   "execution_count": 14,
   "metadata": {
    "colab": {
     "base_uri": "https://localhost:8080/"
    },
    "executionInfo": {
     "elapsed": 21651,
     "status": "ok",
     "timestamp": 1704290258145,
     "user": {
      "displayName": "이태민",
      "userId": "07520030499917081884"
     },
     "user_tz": -540
    },
    "id": "hwyF8i0qUICD",
    "outputId": "5aa717fa-e933-4307-8e32-1a107ee2881f"
   },
   "outputs": [
    {
     "name": "stdout",
     "output_type": "stream",
     "text": [
      "Epoch 1/5\n",
      "1500/1500 [==============================] - 4s 3ms/step - loss: 0.5285 - accuracy: 0.8142\n",
      "Epoch 2/5\n",
      "1500/1500 [==============================] - 3s 2ms/step - loss: 0.3907 - accuracy: 0.8601\n",
      "Epoch 3/5\n",
      "1500/1500 [==============================] - 3s 2ms/step - loss: 0.3535 - accuracy: 0.8722\n",
      "Epoch 4/5\n",
      "1500/1500 [==============================] - 3s 2ms/step - loss: 0.3323 - accuracy: 0.8813\n",
      "Epoch 5/5\n",
      "1500/1500 [==============================] - 3s 2ms/step - loss: 0.3177 - accuracy: 0.8871\n"
     ]
    },
    {
     "data": {
      "text/plain": [
       "<tensorflow.python.keras.callbacks.History at 0x2838725f0f0>"
      ]
     },
     "execution_count": 14,
     "metadata": {},
     "output_type": "execute_result"
    }
   ],
   "source": [
    "model.compile(loss='sparse_categorical_crossentropy', metrics = 'accuracy')\n",
    "model.fit(train_scaled, train_target, epochs = 5)"
   ]
  },
  {
   "cell_type": "code",
   "execution_count": 15,
   "metadata": {
    "colab": {
     "base_uri": "https://localhost:8080/"
    },
    "executionInfo": {
     "elapsed": 1018,
     "status": "ok",
     "timestamp": 1704290280518,
     "user": {
      "displayName": "이태민",
      "userId": "07520030499917081884"
     },
     "user_tz": -540
    },
    "id": "vA8e3QGqUIQT",
    "outputId": "3a12f50d-bee7-4016-e319-9289f15cbd5f"
   },
   "outputs": [
    {
     "name": "stdout",
     "output_type": "stream",
     "text": [
      "375/375 [==============================] - 1s 1ms/step - loss: 0.3753 - accuracy: 0.8727\n"
     ]
    },
    {
     "data": {
      "text/plain": [
       "[0.3752751052379608, 0.8726666569709778]"
      ]
     },
     "execution_count": 15,
     "metadata": {},
     "output_type": "execute_result"
    }
   ],
   "source": [
    "model.evaluate(val_scaled, val_target)"
   ]
  },
  {
   "cell_type": "code",
   "execution_count": 16,
   "metadata": {
    "executionInfo": {
     "elapsed": 349,
     "status": "ok",
     "timestamp": 1704290502300,
     "user": {
      "displayName": "이태민",
      "userId": "07520030499917081884"
     },
     "user_tz": -540
    },
    "id": "yOd5YSKMUIXS"
   },
   "outputs": [],
   "source": [
    "model.compile(optimizer='sgd', loss = 'spars_categorical_crossentropy', metrics = 'accuracy')\n",
    "sgd = keras.optimizers.SGD()\n",
    "model.compile(optimizer = sgd, loss = 'sparse_categorical_crossentropy', metrics = 'accuracy')"
   ]
  },
  {
   "cell_type": "code",
   "execution_count": 17,
   "metadata": {
    "executionInfo": {
     "elapsed": 515,
     "status": "ok",
     "timestamp": 1704290545816,
     "user": {
      "displayName": "이태민",
      "userId": "07520030499917081884"
     },
     "user_tz": -540
    },
    "id": "vZrkb2vaUIeD"
   },
   "outputs": [],
   "source": [
    "sgd = keras.optimizers.SGD(learning_rate = 0.1)"
   ]
  },
  {
   "cell_type": "code",
   "execution_count": 18,
   "metadata": {
    "executionInfo": {
     "elapsed": 524,
     "status": "ok",
     "timestamp": 1704290583072,
     "user": {
      "displayName": "이태민",
      "userId": "07520030499917081884"
     },
     "user_tz": -540
    },
    "id": "I2c3TJx8UIkV"
   },
   "outputs": [],
   "source": [
    "sgd = keras.optimizers.SGD(momentum=0.9, nesterov = True)"
   ]
  },
  {
   "cell_type": "code",
   "execution_count": 19,
   "metadata": {
    "executionInfo": {
     "elapsed": 323,
     "status": "ok",
     "timestamp": 1704290649474,
     "user": {
      "displayName": "이태민",
      "userId": "07520030499917081884"
     },
     "user_tz": -540
    },
    "id": "1aHL4ckgolAg"
   },
   "outputs": [],
   "source": [
    "adagrad = keras.optimizers.Adagrad()\n",
    "model.compile(optimizer = adagrad, loss='spars_categorical_crossentropy', metrics = 'accuracy')"
   ]
  },
  {
   "cell_type": "code",
   "execution_count": 20,
   "metadata": {
    "executionInfo": {
     "elapsed": 338,
     "status": "ok",
     "timestamp": 1704290875620,
     "user": {
      "displayName": "이태민",
      "userId": "07520030499917081884"
     },
     "user_tz": -540
    },
    "id": "rmO4mcAvo3S1"
   },
   "outputs": [],
   "source": [
    "model = keras.Sequential()\n",
    "model.add(keras.layers.Flatten(input_shape=(28,28)))\n",
    "model.add(keras.layers.Dense(100, activation = 'relu'))\n",
    "model.add(keras.layers.Dense(10, activation = 'softmax'))"
   ]
  },
  {
   "cell_type": "code",
   "execution_count": 21,
   "metadata": {
    "colab": {
     "base_uri": "https://localhost:8080/"
    },
    "executionInfo": {
     "elapsed": 16105,
     "status": "ok",
     "timestamp": 1704290893070,
     "user": {
      "displayName": "이태민",
      "userId": "07520030499917081884"
     },
     "user_tz": -540
    },
    "id": "U32SQdiPpN0_",
    "outputId": "f6ea9b6d-4072-48d8-e790-0e6564e1d958"
   },
   "outputs": [
    {
     "name": "stdout",
     "output_type": "stream",
     "text": [
      "Epoch 1/5\n",
      "1500/1500 [==============================] - 3s 2ms/step - loss: 0.5159 - accuracy: 0.8189\n",
      "Epoch 2/5\n",
      "1500/1500 [==============================] - 3s 2ms/step - loss: 0.3933 - accuracy: 0.8562\n",
      "Epoch 3/5\n",
      "1500/1500 [==============================] - 3s 2ms/step - loss: 0.3531 - accuracy: 0.8712\n",
      "Epoch 4/5\n",
      "1500/1500 [==============================] - 3s 2ms/step - loss: 0.3248 - accuracy: 0.8819\n",
      "Epoch 5/5\n",
      "1500/1500 [==============================] - 3s 2ms/step - loss: 0.3051 - accuracy: 0.8875\n"
     ]
    },
    {
     "data": {
      "text/plain": [
       "<tensorflow.python.keras.callbacks.History at 0x2839c0fa358>"
      ]
     },
     "execution_count": 21,
     "metadata": {},
     "output_type": "execute_result"
    }
   ],
   "source": [
    "model.compile(optimizer = 'adam', loss = 'sparse_categorical_crossentropy', metrics = 'accuracy')\n",
    "model.fit(train_scaled, train_target, epochs = 5)"
   ]
  },
  {
   "cell_type": "code",
   "execution_count": 22,
   "metadata": {
    "colab": {
     "base_uri": "https://localhost:8080/"
    },
    "executionInfo": {
     "elapsed": 1173,
     "status": "ok",
     "timestamp": 1704290916161,
     "user": {
      "displayName": "이태민",
      "userId": "07520030499917081884"
     },
     "user_tz": -540
    },
    "id": "7bE427URpdDI",
    "outputId": "da070146-b33f-4694-bde3-6d6cda312a44"
   },
   "outputs": [
    {
     "name": "stdout",
     "output_type": "stream",
     "text": [
      "375/375 [==============================] - 1s 1ms/step - loss: 0.3378 - accuracy: 0.8783\n"
     ]
    },
    {
     "data": {
      "text/plain": [
       "[0.3377523720264435, 0.878333330154419]"
      ]
     },
     "execution_count": 22,
     "metadata": {},
     "output_type": "execute_result"
    }
   ],
   "source": [
    "model.evaluate(val_scaled, val_target)"
   ]
  }
 ],
 "metadata": {
  "colab": {
   "authorship_tag": "ABX9TyOMSmqunsyiiejKNNNlVcVe",
   "mount_file_id": "1HUPIKD7Q1UDaYpUn1WIf8WG8qBZ3rBiy",
   "provenance": []
  },
  "kernelspec": {
   "display_name": "[tensorflow-gpu:2.3.0]",
   "language": "python",
   "name": "gpu_env"
  },
  "language_info": {
   "codemirror_mode": {
    "name": "ipython",
    "version": 3
   },
   "file_extension": ".py",
   "mimetype": "text/x-python",
   "name": "python",
   "nbconvert_exporter": "python",
   "pygments_lexer": "ipython3",
   "version": "3.7.0"
  }
 },
 "nbformat": 4,
 "nbformat_minor": 1
}
